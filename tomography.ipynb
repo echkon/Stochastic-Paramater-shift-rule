{
 "cells": [
  {
   "cell_type": "markdown",
   "metadata": {
    "id": "LndNJ0NGADzj"
   },
   "source": [
    "# Code for Stochatic parameter shift rule with Tomography"
   ]
  },
  {
   "cell_type": "code",
   "execution_count": 1,
   "metadata": {},
   "outputs": [],
   "source": [
    "import numpy as np\n",
    "import matplotlib.pyplot as plt\n",
    "from tqix import *\n",
    "import stoc.bases\n",
    "import stoc.fishers\n",
    "import stoc.stocf\n",
    "import stoc.quench\n",
    "\n",
    "import statistics \n",
    "import random"
   ]
  },
  {
   "cell_type": "code",
   "execution_count": 2,
   "metadata": {},
   "outputs": [],
   "source": [
    "# Pauli matrices # from tqix\n",
    "sx = sigmax()\n",
    "sy = sigmay()\n",
    "sz = sigmaz()\n",
    "si = eyex(2)\n",
    "u = obasis(2,0)\n",
    "d = obasis(2,1)\n",
    "psi1 = u\n",
    "psi2 = (u+d)/np.sqrt(2)\n",
    "psi3 = (u+1j*d)/np.sqrt(2)"
   ]
  },
  {
   "cell_type": "code",
   "execution_count": 4,
   "metadata": {},
   "outputs": [
    {
     "name": "stdout",
     "output_type": "stream",
     "text": [
      "2 0.9455855261316244 1.4245281933436704\n",
      "3 0.6683948962047941 1.0330128835134833\n",
      "4 0.5154736874083159 0.8650780134510498\n",
      "5 0.4202816990547609 0.7645011007748088\n",
      "6 0.3634917434377377 0.6916947193011256\n",
      "7 0.32114135343561623 0.6376045105564299\n",
      "8 0.2879850858094863 0.595262803093591\n",
      "9 0.2609471601327228 0.5609603360749433\n",
      "10 0.23919093542079517 0.5321434556348362\n",
      "11 0.22184595807483964 0.5072589263483439\n",
      "12 0.20654491803978905 0.4858708046365895\n",
      "13 0.1936340228462776 0.4669944069359455\n",
      "14 0.18233154288104353 0.4502493916307611\n",
      "15 0.17235632312412633 0.435254426064256\n",
      "16 0.16343794205385329 0.4217268376741605\n",
      "17 0.15546211126672926 0.4094250354979147\n",
      "18 0.1483395031173297 0.39815498026032703\n",
      "19 0.14172615749075862 0.3878398112561017\n"
     ]
    }
   ],
   "source": [
    "# Define Hamilotnian\n",
    "H0 = dotx(psi1,daggx(psi1))\n",
    "H1 = dotx(psi2,daggx(psi2))\n",
    "H2 = dotx(psi3,daggx(psi3))\n",
    "opers = [H0, H1, H2]\n",
    "#params = [-0.1, 0.2, 0.1]\n",
    "\n",
    "p = 20\n",
    "d = len(params)\n",
    "ps = []\n",
    "results = []\n",
    "means = []\n",
    "stds = []\n",
    "\n",
    "for i in range(d-1,p):\n",
    "    ps.append(i)\n",
    "    for j in range(10):\n",
    "        params = [random.uniform(-1, 1), random.uniform(-1, 1), random.uniform(-1, 1)]\n",
    "        result = stoc.quench.quench(i, opers, params)\n",
    "        results.append(np.real(result))\n",
    "        \n",
    "    means.append(statistics.mean(results))\n",
    "    stds.append(statistics.stdev(results))\n",
    "    \n",
    "    print(i,statistics.mean(results),statistics.stdev(results))\n",
    "\n",
    "#save\n",
    "np.savetxt('data/means_stoc.out', means, delimiter=',')\n",
    "np.savetxt('data/stds_stoc.out', means, delimiter=',')"
   ]
  },
  {
   "cell_type": "code",
   "execution_count": 11,
   "metadata": {},
   "outputs": [
    {
     "data": {
      "image/png": "[encoded data removed]",
      "text/plain": [
       "<Figure size 432x288 with 1 Axes>"
      ]
     },
     "metadata": {
      "needs_background": "light"
     },
     "output_type": "display_data"
    }
   ],
   "source": [
    "cmap = plt.get_cmap(\"tab10\")\n",
    "\n",
    "sql = []\n",
    "hl = []\n",
    "\n",
    "for i in ps:\n",
    "    sql.append(1.0/i)\n",
    "    hl.append(1.0/(i*i))\n",
    "\n",
    "\n",
    "#plt.scatter(ps,means,linestyle='-', marker='o')\n",
    "plt.scatter(ps,means_inf,linestyle='-', marker='^')\n",
    "plt.scatter(ps,means_stoc,linestyle='-', marker='v')\n",
    "\n",
    "plt.plot(ps,sql, '-',color=cmap(2))\n",
    "plt.plot(ps,hl, '-',color=cmap(3))\n",
    "\n",
    "plt.xlabel(\"p\")\n",
    "plt.ylabel(\"dX2\")\n",
    "plt.xscale(\"log\")\n",
    "plt.yscale(\"log\")\n",
    "\n",
    "\n",
    "plt.savefig('data/fig_quench20ave.eps', format = 'eps', dpi=600)\n",
    "plt.show()"
   ]
  },
  {
   "cell_type": "code",
   "execution_count": 8,
   "metadata": {},
   "outputs": [],
   "source": [
    "#call file to plot above figure\n",
    "means_inf = np.loadtxt('data/means_inf.out',delimiter=',')\n",
    "stds_inf = np.loadtxt('data/stds_inf.out',delimiter=',')\n",
    "means_stoc = np.loadtxt('data/means_stoc.out',delimiter=',')\n",
    "stds_stoc = np.loadtxt('data/stds_stoc.out',delimiter=',')"
   ]
  },
  {
   "cell_type": "code",
   "execution_count": null,
   "metadata": {},
   "outputs": [],
   "source": []
  }
 ],
 "metadata": {
  "colab": {
   "collapsed_sections": [],
   "name": "Stochastic_Paramater_Shift_Rule",
   "provenance": []
  },
  "kernelspec": {
   "display_name": "Python 3",
   "language": "python",
   "name": "python3"
  },
  "language_info": {
   "codemirror_mode": {
    "name": "ipython",
    "version": 3
   },
   "file_extension": ".py",
   "mimetype": "text/x-python",
   "name": "python",
   "nbconvert_exporter": "python",
   "pygments_lexer": "ipython3",
   "version": "3.8.5"
  }
 },
 "nbformat": 4,
 "nbformat_minor": 1
}
